{
 "cells": [
  {
   "cell_type": "code",
   "execution_count": null,
   "id": "ed17ebd5-789a-4821-8a70-abbb99a4cb26",
   "metadata": {},
   "outputs": [],
   "source": [
    "import os\n",
    "import numpy\n",
    "import pandas\n",
    "import pytube\n",
    "import datetime\n",
    "import requests\n",
    "from json import loads\n",
    "from pytube import YouTube\n",
    "from dotenv import load_dotenv\n",
    "from urllib.parse import quote_plus\n",
    "from sqlalchemy import create_engine"
   ]
  },
  {
   "cell_type": "code",
   "execution_count": null,
   "id": "0858c535-cf51-4d34-9af4-762ad4f78d8c",
   "metadata": {},
   "outputs": [],
   "source": [
    "f = open(\"all.txt\", \"r\")\n",
    "links_to_read = f.read().split('\\n')\n",
    "links_to_read"
   ]
  },
  {
   "cell_type": "code",
   "execution_count": null,
   "id": "b1fda7e0-32b7-4ea5-aa6a-4fe79fc71c2c",
   "metadata": {},
   "outputs": [],
   "source": [
    "def get_description(video: YouTube) -> str:\n",
    "    i: int = video.watch_html.find('\"shortDescription\":\"')\n",
    "    desc: str = '\"'\n",
    "    i += 20  # excluding the `\"shortDescription\":\"`\n",
    "    while True:\n",
    "        letter = video.watch_html[i]\n",
    "        desc += letter  # letter can be added in any case\n",
    "        i += 1\n",
    "        if letter == '\\\\':\n",
    "            desc += video.watch_html[i]\n",
    "            i += 1\n",
    "        elif letter == '\"':\n",
    "            break\n",
    "    return loads(desc)\n",
    "\n",
    "def get_thumb(name, thumb):\n",
    "    img_data = requests.get(thumb).content\n",
    "    with open('./thumb/{0}.png'.format(name), 'wb') as handler:\n",
    "        handler.write(img_data)\n"
   ]
  },
  {
   "cell_type": "code",
   "execution_count": null,
   "id": "d045896e-0831-4e02-8041-86aae3185a17",
   "metadata": {},
   "outputs": [],
   "source": [
    "names, authors, descriptions, ratings, thumbs, titles, nn_views, lengths = [], [], [], [], [], [], [], []\n",
    "for l in links_to_read:\n",
    "    name = l[l.index('?v=')+len('?v='):]\n",
    "    print(name)\n",
    "    try:\n",
    "        yy = YouTube(l)\n",
    "        yy.check_availability()\n",
    "        author = yy.author\n",
    "        # description = yy.description\n",
    "        description = get_description(yy)\n",
    "        rating = yy.rating\n",
    "        thumb = yy.thumbnail_url\n",
    "        get_thumb(name, thumb)\n",
    "        title = yy.title\n",
    "        n_views = yy.views\n",
    "        length = yy.length\n",
    "        # yy.streams.first().download(output_path='data\\\\', filename='{0}.mp4'.format(name))\n",
    "    except Exception as e:\n",
    "        print(e)\n",
    "        author = ''\n",
    "        description = ''\n",
    "        rating = numpy.nan\n",
    "        thumb = ''\n",
    "        title = ''\n",
    "        n_views = numpy.nan\n",
    "        length = numpy.nan\n",
    "    names.append(name)\n",
    "    authors.append(author)\n",
    "    descriptions.append(description)\n",
    "    ratings.append(rating)\n",
    "    thumbs.append(thumb)\n",
    "    titles.append(title)\n",
    "    nn_views.append(n_views)\n",
    "    lengths.append(length)\n",
    "thumbnails = ['{0}.png'.format(name) for name in names]\n",
    "summary = pandas.DataFrame(data={'_name': titles,\n",
    "                                 '_author': authors,\n",
    "                                 '_description': descriptions,\n",
    "                                 '_link': links_to_read,\n",
    "                                 'thumbnail': thumbnails,\n",
    "                                 })\n",
    "now = datetime.datetime.now().strftime(\"%Y%m%d-%H%M%S\")\n",
    "summary.to_excel('./summaries/summary_{0}.xlsx'.format(now), index=False)\n",
    "summary"
   ]
  },
  {
   "cell_type": "code",
   "execution_count": null,
   "id": "52299c76-c0f9-401f-a5a6-dbb0f1ec4706",
   "metadata": {},
   "outputs": [],
   "source": [
    "summary"
   ]
  },
  {
   "cell_type": "code",
   "execution_count": null,
   "id": "a3d4527c-9e0c-440e-8318-7b6a8b3a9538",
   "metadata": {},
   "outputs": [],
   "source": []
  },
  {
   "cell_type": "code",
   "execution_count": null,
   "id": "9cb702c4-0277-49d2-a6ec-738bd25a962a",
   "metadata": {},
   "outputs": [],
   "source": [
    "load_dotenv()\n",
    "\n",
    "DB_USER = os.getenv('DB_USER')\n",
    "DB_PW = os.getenv('DB_PW')\n",
    "DB_HOST = os.getenv('DB_HOST')\n",
    "DB_NAME = os.getenv('DB_NAME')\n",
    "\n",
    "conn = create_engine(\"postgresql+psycopg2://{0}:{1}@{2}/{3}\".format(\n",
    "    DB_USER, quote_plus(DB_PW), DB_HOST, DB_NAME\n",
    ")).connect()"
   ]
  },
  {
   "cell_type": "code",
   "execution_count": null,
   "id": "c29c4ccd-96d9-4ff9-b058-49fc516978c1",
   "metadata": {},
   "outputs": [],
   "source": [
    "summary.to_sql(name='pizzas', con=conn, if_exists='append', index=False)"
   ]
  },
  {
   "cell_type": "code",
   "execution_count": null,
   "id": "952a8e01-7b92-4a60-bc88-45dfb8844112",
   "metadata": {},
   "outputs": [],
   "source": []
  },
  {
   "cell_type": "code",
   "execution_count": null,
   "id": "382b5468-9f63-407c-85c0-b294a34d4793",
   "metadata": {},
   "outputs": [],
   "source": []
  },
  {
   "cell_type": "code",
   "execution_count": null,
   "id": "8077a728-c88b-4409-ba42-75ccf49f548d",
   "metadata": {},
   "outputs": [],
   "source": []
  },
  {
   "cell_type": "code",
   "execution_count": null,
   "id": "a8a534bb-c03f-4f96-bc0b-cf65bcb90f57",
   "metadata": {},
   "outputs": [],
   "source": []
  }
 ],
 "metadata": {
  "kernelspec": {
   "display_name": "Python 3 (ipykernel)",
   "language": "python",
   "name": "python3"
  },
  "language_info": {
   "codemirror_mode": {
    "name": "ipython",
    "version": 3
   },
   "file_extension": ".py",
   "mimetype": "text/x-python",
   "name": "python",
   "nbconvert_exporter": "python",
   "pygments_lexer": "ipython3",
   "version": "3.12.4"
  }
 },
 "nbformat": 4,
 "nbformat_minor": 5
}
